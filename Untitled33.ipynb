{
 "cells": [
  {
   "cell_type": "code",
   "execution_count": 1,
   "id": "e84622c0",
   "metadata": {},
   "outputs": [
    {
     "name": "stdout",
     "output_type": "stream",
     "text": [
      "Collecting qrcode[pil]\n",
      "  Obtaining dependency information for qrcode[pil] from https://files.pythonhosted.org/packages/dd/b8/d2d6d731733f51684bbf76bf34dab3b70a9148e8f2cef2bb544fccec681a/qrcode-8.2-py3-none-any.whl.metadata\n",
      "  Downloading qrcode-8.2-py3-none-any.whl.metadata (17 kB)\n",
      "Requirement already satisfied: pillow in c:\\users\\kiit0001\\anaconda3\\lib\\site-packages (9.4.0)\n",
      "Requirement already satisfied: colorama in c:\\users\\kiit0001\\anaconda3\\lib\\site-packages (from qrcode[pil]) (0.4.6)\n",
      "Downloading qrcode-8.2-py3-none-any.whl (45 kB)\n",
      "   ---------------------------------------- 0.0/46.0 kB ? eta -:--:--\n",
      "   -------- ------------------------------- 10.2/46.0 kB ? eta -:--:--\n",
      "   -------- ------------------------------- 10.2/46.0 kB ? eta -:--:--\n",
      "   -------------------------- ------------- 30.7/46.0 kB 262.6 kB/s eta 0:00:01\n",
      "   -------------------------- ------------- 30.7/46.0 kB 262.6 kB/s eta 0:00:01\n",
      "   ---------------------------------------- 46.0/46.0 kB 190.1 kB/s eta 0:00:00\n",
      "Installing collected packages: qrcode\n",
      "Successfully installed qrcode-8.2\n",
      "Note: you may need to restart the kernel to use updated packages.\n"
     ]
    }
   ],
   "source": [
    "pip install qrcode[pil] pillow"
   ]
  },
  {
   "cell_type": "code",
   "execution_count": null,
   "id": "815aa098",
   "metadata": {},
   "outputs": [],
   "source": [
    "import qrcode\n",
    "from PIL import Image\n",
    "from ipywidgets import widgets, interact\n",
    "\n",
    "# Function to generate and display QR code\n",
    "def generate_qr_code(text):\n",
    "    # Generate QR code\n",
    "    qr = qrcode.QRCode(version=1, error_correction=qrcode.constants.ERROR_CORRECT_L, box_size=10, border=4)\n",
    "    qr.add_data(text)\n",
    "    qr.make(fit=True)\n",
    "\n",
    "    # Create an image from the QR Code\n",
    "    img = qr.make_image(fill='black', back_color='white')\n",
    "\n",
    "    # Display the image\n",
    "    img.show()\n",
    "\n",
    "# Interactive widget for input\n",
    "input_text = widgets.Text(\n",
    "    description='Enter Text or URL:',\n",
    "    disabled=False\n",
    ")\n",
    "\n",
    "# Call the generate_qr_code function when the user submits input\n",
    "interact(generate_qr_code, text=input_text);\n"
   ]
  },
  {
   "cell_type": "code",
   "execution_count": null,
   "id": "5eed9bac",
   "metadata": {},
   "outputs": [],
   "source": []
  }
 ],
 "metadata": {
  "kernelspec": {
   "display_name": "Python 3 (ipykernel)",
   "language": "python",
   "name": "python3"
  },
  "language_info": {
   "codemirror_mode": {
    "name": "ipython",
    "version": 3
   },
   "file_extension": ".py",
   "mimetype": "text/x-python",
   "name": "python",
   "nbconvert_exporter": "python",
   "pygments_lexer": "ipython3",
   "version": "3.11.5"
  }
 },
 "nbformat": 4,
 "nbformat_minor": 5
}
